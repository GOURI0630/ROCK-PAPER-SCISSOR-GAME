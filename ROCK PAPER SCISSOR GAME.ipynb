{
 "cells": [
  {
   "cell_type": "code",
   "execution_count": 5,
   "id": "0e2f4dc7-888e-48ae-9583-f376dcb93733",
   "metadata": {},
   "outputs": [],
   "source": [
    "import numpy as np"
   ]
  },
  {
   "cell_type": "code",
   "execution_count": 7,
   "id": "a8c9af00-7955-48b0-af17-f5613a9d9ea8",
   "metadata": {},
   "outputs": [
    {
     "name": "stdin",
     "output_type": "stream",
     "text": [
      "Enter rock, paper or scissor:  ROCK\n"
     ]
    },
    {
     "name": "stdout",
     "output_type": "stream",
     "text": [
      "Computer chose: scissor\n",
      "User wins\n",
      "Chances left: 4\n",
      "------------------------------\n"
     ]
    },
    {
     "name": "stdin",
     "output_type": "stream",
     "text": [
      "Enter rock, paper or scissor:  ROCK\n"
     ]
    },
    {
     "name": "stdout",
     "output_type": "stream",
     "text": [
      "Computer chose: rock\n",
      "Draw\n",
      "Chances left: 3\n",
      "------------------------------\n"
     ]
    },
    {
     "name": "stdin",
     "output_type": "stream",
     "text": [
      "Enter rock, paper or scissor:  ROCK\n"
     ]
    },
    {
     "name": "stdout",
     "output_type": "stream",
     "text": [
      "Computer chose: scissor\n",
      "User wins\n",
      "Chances left: 2\n",
      "------------------------------\n"
     ]
    },
    {
     "name": "stdin",
     "output_type": "stream",
     "text": [
      "Enter rock, paper or scissor:  ROCK\n"
     ]
    },
    {
     "name": "stdout",
     "output_type": "stream",
     "text": [
      "Computer chose: scissor\n",
      "User wins\n",
      "Chances left: 1\n",
      "------------------------------\n"
     ]
    },
    {
     "name": "stdin",
     "output_type": "stream",
     "text": [
      "Enter rock, paper or scissor:  ROCK\n"
     ]
    },
    {
     "name": "stdout",
     "output_type": "stream",
     "text": [
      "Computer chose: scissor\n",
      "User wins\n",
      "Chances left: 0\n",
      "------------------------------\n",
      "\n",
      "--- GAME OVER ---\n",
      "User Score: 4\n",
      "Computer Score: 0\n",
      "Draws: 1\n",
      "User Wins the Game!\n"
     ]
    }
   ],
   "source": [
    "choices = ['rock', 'paper', 'scissor']\n",
    "chance = 5\n",
    "\n",
    "user_score = 0\n",
    "computer_score = 0\n",
    "draw_count = 0\n",
    "\n",
    "while chance != 0: \n",
    "    user = input(\"Enter rock, paper or scissor: \").lower()\n",
    "    computer = choices[np.random.randint(0, 3)]   \n",
    "\n",
    "    print(\"Computer chose:\", computer)\n",
    "\n",
    "    if user == 'rock':\n",
    "        if computer == 'paper':\n",
    "            print('Computer wins')\n",
    "            computer_score += 1\n",
    "        elif computer == 'scissor':\n",
    "            print('User wins')\n",
    "            user_score += 1\n",
    "        else:\n",
    "            print('Draw')\n",
    "            draw_count += 1\n",
    "\n",
    "    elif user == 'paper':\n",
    "        if computer == 'scissor':\n",
    "            print('Computer wins')\n",
    "            computer_score += 1\n",
    "        elif computer == 'rock':\n",
    "            print('User wins')\n",
    "            user_score += 1\n",
    "        else:\n",
    "            print('Draw')\n",
    "            draw_count += 1\n",
    "\n",
    "    elif user == 'scissor':\n",
    "        if computer == 'rock':\n",
    "            print('Computer wins')\n",
    "            computer_score += 1\n",
    "        elif computer == 'paper':\n",
    "            print('User wins')\n",
    "            user_score += 1\n",
    "        else:\n",
    "            print('Draw')\n",
    "            draw_count += 1\n",
    "    else:\n",
    "        print(\"Invalid input, please enter rock, paper or scissor\")\n",
    "\n",
    "    chance -= 1\n",
    "    print(\"Chances left:\", chance)\n",
    "    print(\"-\" * 30)\n",
    "\n",
    "# final score\n",
    "print(\"\\n--- GAME OVER ---\")\n",
    "print(\"User Score:\", user_score)\n",
    "print(\"Computer Score:\", computer_score)\n",
    "print(\"Draws:\", draw_count)\n",
    "\n",
    "if user_score > computer_score:\n",
    "    print(\"User Wins the Game!\")\n",
    "elif computer_score > user_score:\n",
    "    print(\"Computer Wins the Game!\")\n",
    "else:\n",
    "    print(\"It's a Draw!\")\n",
    "\n"
   ]
  },
  {
   "cell_type": "code",
   "execution_count": null,
   "id": "b0d5718e-983a-4259-a3db-b7ace76fa46d",
   "metadata": {},
   "outputs": [],
   "source": []
  },
  {
   "cell_type": "code",
   "execution_count": null,
   "id": "41d7143b-3ae5-4f5a-9b2f-03df7922936b",
   "metadata": {},
   "outputs": [],
   "source": []
  },
  {
   "cell_type": "code",
   "execution_count": null,
   "id": "b0c63a6a-7d4d-4c23-8b1f-251de45ee107",
   "metadata": {},
   "outputs": [],
   "source": []
  },
  {
   "cell_type": "code",
   "execution_count": null,
   "id": "93535388-c783-4ec7-8064-bcb6ee070b09",
   "metadata": {},
   "outputs": [],
   "source": []
  }
 ],
 "metadata": {
  "kernelspec": {
   "display_name": "Python 3 (ipykernel)",
   "language": "python",
   "name": "python3"
  },
  "language_info": {
   "codemirror_mode": {
    "name": "ipython",
    "version": 3
   },
   "file_extension": ".py",
   "mimetype": "text/x-python",
   "name": "python",
   "nbconvert_exporter": "python",
   "pygments_lexer": "ipython3",
   "version": "3.12.7"
  }
 },
 "nbformat": 4,
 "nbformat_minor": 5
}
